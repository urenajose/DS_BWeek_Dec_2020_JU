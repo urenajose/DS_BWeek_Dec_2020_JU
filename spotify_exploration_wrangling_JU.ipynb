{
  "nbformat": 4,
  "nbformat_minor": 0,
  "metadata": {
    "colab": {
      "name": "spotify_exploration_wrangling_JU.ipynb",
      "provenance": [],
      "collapsed_sections": [
        "wVyMSCqqfGlw",
        "NZLc5LmjClgU"
      ],
      "toc_visible": true
    },
    "kernelspec": {
      "name": "python3",
      "display_name": "Python 3",
      "language": "python"
    }
  },
  "cells": [
    {
      "cell_type": "markdown",
      "metadata": {
        "id": "dk_hGQEvfuRP"
      },
      "source": [
        "## Dependencies"
      ]
    },
    {
      "cell_type": "code",
      "metadata": {
        "colab": {
          "base_uri": "https://localhost:8080/"
        },
        "id": "iq8x9YBKa2nt",
        "outputId": "8a7258bc-8f1b-4a9b-c235-1a774429d5d5"
      },
      "source": [
        "if 'google.colab' in str(get_ipython()):\r\n",
        "  print('Running on CoLab')\r\n",
        "  !pip install fuzzywuzzy[speedup]\r\n",
        "else:\r\n",
        "  print(\"No running in colab\")"
      ],
      "execution_count": 7,
      "outputs": [
        {
          "output_type": "stream",
          "name": "stdout",
          "text": [
            "No running in colab\n"
          ]
        }
      ]
    },
    {
      "cell_type": "code",
      "metadata": {
        "id": "vMjLOhNq-aFa"
      },
      "source": [
        "import pandas as pd\n",
        "import ast\n",
        "import itertools\n",
        "import numpy as np\n",
        "from sklearn.neighbors import NearestNeighbors\n",
        "from sklearn.preprocessing import MinMaxScaler\n",
        "from fuzzywuzzy import process\n",
        "from time import process_time\n",
        "import pickle\n",
        "print('all imported')"
      ],
      "execution_count": 8,
      "outputs": [
        {
          "output_type": "stream",
          "name": "stdout",
          "text": [
            "all imported\n"
          ]
        }
      ]
    },
    {
      "cell_type": "markdown",
      "metadata": {
        "id": "mGLLfbvHbxtd"
      },
      "source": [
        "##DataFrame\r\n"
      ]
    },
    {
      "cell_type": "code",
      "metadata": {
        "id": "g_JmThSwN_0t"
      },
      "source": [
        "df_track = pd.read_csv('https://raw.githubusercontent.com/vjmiyagi/DS_BuildWeek_Dec_2020/main/csv/data.csv')"
      ],
      "execution_count": 9,
      "outputs": []
    },
    {
      "cell_type": "code",
      "metadata": {
        "colab": {
          "base_uri": "https://localhost:8080/"
        },
        "id": "Au6xjkKQ9M4Z",
        "outputId": "8d31abe3-6937-4cee-8327-307c72ed517a"
      },
      "source": [
        "df_track.info()"
      ],
      "execution_count": 10,
      "outputs": [
        {
          "output_type": "stream",
          "name": "stdout",
          "text": [
            "<class 'pandas.core.frame.DataFrame'>\nRangeIndex: 170653 entries, 0 to 170652\nData columns (total 19 columns):\n #   Column            Non-Null Count   Dtype  \n---  ------            --------------   -----  \n 0   valence           170653 non-null  float64\n 1   year              170653 non-null  int64  \n 2   acousticness      170653 non-null  float64\n 3   artists           170653 non-null  object \n 4   danceability      170653 non-null  float64\n 5   duration_ms       170653 non-null  int64  \n 6   energy            170653 non-null  float64\n 7   explicit          170653 non-null  int64  \n 8   id                170653 non-null  object \n 9   instrumentalness  170653 non-null  float64\n 10  key               170653 non-null  int64  \n 11  liveness          170653 non-null  float64\n 12  loudness          170653 non-null  float64\n 13  mode              170653 non-null  int64  \n 14  name              170653 non-null  object \n 15  popularity        170653 non-null  int64  \n 16  release_date      170653 non-null  object \n 17  speechiness       170653 non-null  float64\n 18  tempo             170653 non-null  float64\ndtypes: float64(9), int64(6), object(4)\nmemory usage: 24.7+ MB\n"
          ]
        }
      ]
    },
    {
      "cell_type": "code",
      "metadata": {
        "colab": {
          "base_uri": "https://localhost:8080/"
        },
        "id": "WO92wJioEe2G",
        "outputId": "63aaee25-85b3-4ff3-c094-9c9a2bee49cd"
      },
      "source": [
        "df_track['artists']"
      ],
      "execution_count": 11,
      "outputs": [
        {
          "output_type": "execute_result",
          "data": {
            "text/plain": [
              "0         ['Sergei Rachmaninoff', 'James Levine', 'Berli...\n",
              "1                                            ['Dennis Day']\n",
              "2         ['KHP Kridhamardawa Karaton Ngayogyakarta Hadi...\n",
              "3                                          ['Frank Parker']\n",
              "4                                            ['Phil Regan']\n",
              "                                ...                        \n",
              "170648    ['Anuel AA', 'Daddy Yankee', 'KAROL G', 'Ozuna...\n",
              "170649                                         ['Ashnikko']\n",
              "170650                                          ['MAMAMOO']\n",
              "170651                                           ['Eminem']\n",
              "170652                                ['KEVVO', 'J Balvin']\n",
              "Name: artists, Length: 170653, dtype: object"
            ]
          },
          "metadata": {},
          "execution_count": 11
        }
      ]
    },
    {
      "cell_type": "markdown",
      "metadata": {
        "id": "3SHIqo8QD6UH"
      },
      "source": [
        "##Spotify df\r\n",
        "\r\n"
      ]
    },
    {
      "cell_type": "code",
      "metadata": {
        "id": "XcR2T-Suz2Jy"
      },
      "source": [
        "#converting string to a list using ast.literal_eval"
      ],
      "execution_count": 12,
      "outputs": []
    },
    {
      "cell_type": "code",
      "metadata": {
        "id": "NvvrHlZpOO9d",
        "colab": {
          "base_uri": "https://localhost:8080/"
        },
        "outputId": "e28a8321-ab67-4bcd-a90b-bbd5662d6435"
      },
      "source": [
        "df_track.artists = df_track.artists.apply(ast.literal_eval)\r\n",
        "# returning a list store in a string, str('[a,g,c]') --> list [a,g,c]\r\n",
        "type(df_track.artists[0])"
      ],
      "execution_count": 13,
      "outputs": [
        {
          "output_type": "execute_result",
          "data": {
            "text/plain": [
              "list"
            ]
          },
          "metadata": {},
          "execution_count": 13
        }
      ]
    },
    {
      "cell_type": "code",
      "metadata": {
        "colab": {
          "base_uri": "https://localhost:8080/"
        },
        "id": "MaD0rMjuzZgN",
        "outputId": "2c26a6e8-c632-4841-9c6a-fa8359c71019"
      },
      "source": [
        "df_track.artists[0]"
      ],
      "execution_count": 14,
      "outputs": [
        {
          "output_type": "execute_result",
          "data": {
            "text/plain": [
              "['Sergei Rachmaninoff', 'James Levine', 'Berliner Philharmoniker']"
            ]
          },
          "metadata": {},
          "execution_count": 14
        }
      ]
    },
    {
      "cell_type": "code",
      "metadata": {
        "id": "eiSt6KW1UU90"
      },
      "source": [
        "# \" ,\".join(df_track.artists[0]) \r\n",
        "#testing joining a list to a single string separated by delimiter"
      ],
      "execution_count": 15,
      "outputs": []
    },
    {
      "cell_type": "code",
      "metadata": {
        "id": "dxKT-ohzSKzO"
      },
      "source": [
        "def lst_join(list_artists):\r\n",
        "  \"\"\"transform from list to string\r\n",
        "  to get rid of the [] of the list\"\"\"\r\n",
        "  Jointed_list = \", \".join(list_artists)\r\n",
        "  return Jointed_list\r\n",
        "\r\n",
        "df_track.artists = df_track.artists.apply(lst_join)"
      ],
      "execution_count": 16,
      "outputs": []
    },
    {
      "cell_type": "code",
      "metadata": {
        "colab": {
          "base_uri": "https://localhost:8080/",
          "height": 204
        },
        "id": "RHc0Mdb-Tq_A",
        "outputId": "8a8fcd4b-e585-4bec-8f0f-aaa67c144820"
      },
      "source": [
        "df_track[['artists','id']].head()"
      ],
      "execution_count": 17,
      "outputs": [
        {
          "output_type": "execute_result",
          "data": {
            "text/plain": [
              "                                             artists                      id\n",
              "0  Sergei Rachmaninoff, James Levine, Berliner Ph...  4BJqT0PrAfrxzMOxytFOIz\n",
              "1                                         Dennis Day  7xPhfUan2yNtyFG0cUWkt8\n",
              "2  KHP Kridhamardawa Karaton Ngayogyakarta Hadini...  1o6I8BglA6ylDMrIELygv1\n",
              "3                                       Frank Parker  3ftBPsC5vPBKxYSee08FDH\n",
              "4                                         Phil Regan  4d6HGyGT8e121BsdKmw9v6"
            ],
            "text/html": "<div>\n<style scoped>\n    .dataframe tbody tr th:only-of-type {\n        vertical-align: middle;\n    }\n\n    .dataframe tbody tr th {\n        vertical-align: top;\n    }\n\n    .dataframe thead th {\n        text-align: right;\n    }\n</style>\n<table border=\"1\" class=\"dataframe\">\n  <thead>\n    <tr style=\"text-align: right;\">\n      <th></th>\n      <th>artists</th>\n      <th>id</th>\n    </tr>\n  </thead>\n  <tbody>\n    <tr>\n      <th>0</th>\n      <td>Sergei Rachmaninoff, James Levine, Berliner Ph...</td>\n      <td>4BJqT0PrAfrxzMOxytFOIz</td>\n    </tr>\n    <tr>\n      <th>1</th>\n      <td>Dennis Day</td>\n      <td>7xPhfUan2yNtyFG0cUWkt8</td>\n    </tr>\n    <tr>\n      <th>2</th>\n      <td>KHP Kridhamardawa Karaton Ngayogyakarta Hadini...</td>\n      <td>1o6I8BglA6ylDMrIELygv1</td>\n    </tr>\n    <tr>\n      <th>3</th>\n      <td>Frank Parker</td>\n      <td>3ftBPsC5vPBKxYSee08FDH</td>\n    </tr>\n    <tr>\n      <th>4</th>\n      <td>Phil Regan</td>\n      <td>4d6HGyGT8e121BsdKmw9v6</td>\n    </tr>\n  </tbody>\n</table>\n</div>"
          },
          "metadata": {},
          "execution_count": 17
        }
      ]
    },
    {
      "cell_type": "code",
      "metadata": {
        "colab": {
          "base_uri": "https://localhost:8080/"
        },
        "id": "T3qjbGj32trY",
        "outputId": "4cb6846e-c87f-4249-d4be-7c538ed5fbaa"
      },
      "source": [
        "list(df_track.columns.values)"
      ],
      "execution_count": 18,
      "outputs": [
        {
          "output_type": "execute_result",
          "data": {
            "text/plain": [
              "['valence',\n",
              " 'year',\n",
              " 'acousticness',\n",
              " 'artists',\n",
              " 'danceability',\n",
              " 'duration_ms',\n",
              " 'energy',\n",
              " 'explicit',\n",
              " 'id',\n",
              " 'instrumentalness',\n",
              " 'key',\n",
              " 'liveness',\n",
              " 'loudness',\n",
              " 'mode',\n",
              " 'name',\n",
              " 'popularity',\n",
              " 'release_date',\n",
              " 'speechiness',\n",
              " 'tempo']"
            ]
          },
          "metadata": {},
          "execution_count": 18
        }
      ]
    },
    {
      "cell_type": "markdown",
      "metadata": {
        "id": "sLVY_Is4fLJ4"
      },
      "source": [
        "## Normalize, Standarize, Model\r\n"
      ]
    },
    {
      "cell_type": "code",
      "metadata": {
        "id": "qAEXOPwZ2poc"
      },
      "source": [
        "f_labels = ['valence', 'year', 'acousticness', 'danceability',\r\n",
        "       'duration_ms', 'energy', 'explicit', 'instrumentalness',\r\n",
        "       'key', 'liveness', 'loudness', 'mode','popularity', 'speechiness', 'tempo']\r\n",
        "#selected columns to pass to normalize and pass as a Matrix"
      ],
      "execution_count": 19,
      "outputs": []
    },
    {
      "cell_type": "code",
      "metadata": {
        "id": "20bbRX0l3sz7"
      },
      "source": [
        "scaler = MinMaxScaler()"
      ],
      "execution_count": 20,
      "outputs": []
    },
    {
      "cell_type": "code",
      "metadata": {
        "id": "dUWXIERl3yZH"
      },
      "source": [
        "spotify = df_track.copy()"
      ],
      "execution_count": 21,
      "outputs": []
    },
    {
      "cell_type": "code",
      "metadata": {
        "id": "1gigkgPP3_bv"
      },
      "source": [
        "spotify[f_labels] = scaler.fit_transform(spotify[f_labels])"
      ],
      "execution_count": 22,
      "outputs": []
    },
    {
      "cell_type": "code",
      "metadata": {
        "id": "lOlbeXAU02II"
      },
      "source": [
        "model_knn = NearestNeighbors(metric='cosine', algorithm='brute', n_neighbors=5)"
      ],
      "execution_count": 23,
      "outputs": []
    },
    {
      "cell_type": "code",
      "metadata": {
        "id": "TFxG4FGxMPMp"
      },
      "source": [
        "spotify_matrix = spotify[f_labels].to_numpy()"
      ],
      "execution_count": 24,
      "outputs": []
    },
    {
      "cell_type": "code",
      "metadata": {
        "colab": {
          "base_uri": "https://localhost:8080/"
        },
        "id": "cbAzCwspMOPo",
        "outputId": "b5f0e39b-6c06-4eab-92cd-0119b06224dc"
      },
      "source": [
        "model_knn.fit(spotify_matrix)"
      ],
      "execution_count": 25,
      "outputs": [
        {
          "output_type": "execute_result",
          "data": {
            "text/plain": [
              "NearestNeighbors(algorithm='brute', metric='cosine')"
            ]
          },
          "metadata": {},
          "execution_count": 25
        }
      ]
    },
    {
      "cell_type": "code",
      "metadata": {
        "colab": {
          "base_uri": "https://localhost:8080/"
        },
        "id": "kkDdqchB_iBX",
        "outputId": "94d58233-4cfa-4b95-eb24-86b1c036dee7"
      },
      "source": [
        "spotify_matrix[0]"
      ],
      "execution_count": 26,
      "outputs": [
        {
          "output_type": "execute_result",
          "data": {
            "text/plain": [
              "array([0.0594    , 0.        , 0.98594378, 0.28238866, 0.15311207,\n",
              "       0.211     , 0.        , 0.878     , 0.90909091, 0.665     ,\n",
              "       0.62491582, 1.        , 0.04      , 0.03773196, 0.3324504 ])"
            ]
          },
          "metadata": {},
          "execution_count": 26
        }
      ]
    },
    {
      "cell_type": "code",
      "metadata": {
        "colab": {
          "base_uri": "https://localhost:8080/"
        },
        "id": "-vgZjXi45Lb0",
        "outputId": "e4a9ca40-44c4-421b-a6a1-12241b1b212a"
      },
      "source": [
        "t1_start = process_time()  \r\n",
        "track_search = process.extractOne('Clancy Lowered the Boom', spotify['name'])\r\n",
        "\r\n",
        "t1_stop = process_time() \r\n",
        "   \r\n",
        "print(\"Elapsed time:\", t1_stop, t1_start)\r\n",
        "print(\"Elapsed time during the whole program in seconds:\", \r\n",
        "      t1_stop-t1_start)  "
      ],
      "execution_count": 27,
      "outputs": [
        {
          "output_type": "stream",
          "name": "stdout",
          "text": [
            "Elapsed time: 104.900577856 7.347182668\nElapsed time during the whole program in seconds: 97.553395188\n"
          ]
        }
      ]
    },
    {
      "cell_type": "code",
      "metadata": {
        "colab": {
          "base_uri": "https://localhost:8080/"
        },
        "id": "P7ldbrxz7OKF",
        "outputId": "2f192100-8f3d-4094-fe60-21ed3acbd95e"
      },
      "source": [
        "track_search"
      ],
      "execution_count": 28,
      "outputs": [
        {
          "output_type": "execute_result",
          "data": {
            "text/plain": [
              "('Clancy Lowered the Boom', 100, 1)"
            ]
          },
          "metadata": {},
          "execution_count": 28
        }
      ]
    },
    {
      "cell_type": "code",
      "metadata": {
        "id": "HWZLZbePMFyN"
      },
      "source": [
        "def song_recomender(name_song, n_songs):\r\n",
        "  \"\"\"returns indices from the model,\r\n",
        "  pass them to df.loc[[]]\"\"\"\r\n",
        "  id_track = process.extractOne(name_song,spotify['name'])[2]\r\n",
        "  print('Song selected', spotify['name'][id_track], 'id:', id_track)\r\n",
        "  print('searching for recomendation....')\r\n",
        "  distances, ids = model_knn.kneighbors(spotify_matrix[[id_track]], n_neighbors=n_songs)\r\n",
        "  # for i in ids:\r\n",
        "  #   print(spotify[['name','artists','id']].loc[i])\r\n",
        "  return ids"
      ],
      "execution_count": 29,
      "outputs": []
    },
    {
      "cell_type": "code",
      "metadata": {
        "colab": {
          "base_uri": "https://localhost:8080/"
        },
        "id": "uxSkzVauXZxa",
        "outputId": "75834c98-4ff6-4784-a9df-28f11318dab1"
      },
      "source": [
        "song = input('type name of the song and press Enter in your keyboard:')\r\n",
        "print(\"will take a few seconds\")\r\n",
        "recomendations_20 = list(song_recomender(song,20)[0])\r\n",
        "print(recomendations_20, type(recomendations_20))"
      ],
      "execution_count": 30,
      "outputs": [
        {
          "output_type": "stream",
          "name": "stderr",
          "text": [
            "WARNING:root:Applied processor reduces input query to empty string, all comparisons will have score 0. [Query: '']\n",
            "will take a few seconds\n",
            "Song selected Piano Concerto No. 3 in D Minor, Op. 30: III. Finale. Alla breve id: 0\n",
            "searching for recomendation....\n",
            "[0, 39, 109097, 39041, 92624, 20423, 1633, 1677, 1665, 75462, 40265, 39080, 41485, 109035, 125001, 38905, 75528, 156064, 126084, 108990] <class 'list'>\n"
          ]
        }
      ]
    },
    {
      "cell_type": "code",
      "metadata": {
        "colab": {
          "base_uri": "https://localhost:8080/",
          "height": 1000
        },
        "id": "Y17nFycGNeQN",
        "outputId": "f581ca99-c1f9-4eb2-b576-1437c75aad8d"
      },
      "source": [
        "spotify.loc[recomendations_20]"
      ],
      "execution_count": 31,
      "outputs": [
        {
          "output_type": "execute_result",
          "data": {
            "text/plain": [
              "        valence      year  acousticness  \\\n",
              "0        0.0594  0.000000      0.985944   \n",
              "39       0.0594  0.000000      0.985944   \n",
              "109097   0.1020  0.070707      0.971888   \n",
              "39041    0.1020  0.070707      0.971888   \n",
              "92624    0.1180  0.070707      0.997992   \n",
              "20423    0.0859  0.070707      0.997992   \n",
              "1633     0.0379  0.090909      0.985944   \n",
              "1677     0.0798  0.090909      0.936747   \n",
              "1665     0.0959  0.090909      0.992972   \n",
              "75462    0.1280  0.070707      0.996988   \n",
              "40265    0.0973  0.141414      0.930723   \n",
              "39080    0.0561  0.070707      0.993976   \n",
              "41485    0.1480  0.202020      0.918675   \n",
              "109035   0.2860  0.050505      0.996988   \n",
              "125001   0.0987  0.050505      0.997992   \n",
              "38905    0.1430  0.060606      0.993976   \n",
              "75528    0.1150  0.070707      0.921687   \n",
              "156064   0.2150  0.242424      0.991968   \n",
              "126084   0.0827  0.252525      0.893574   \n",
              "108990   0.3140  0.050505      0.998996   \n",
              "\n",
              "                                                  artists  danceability  \\\n",
              "0       Sergei Rachmaninoff, James Levine, Berliner Ph...      0.282389   \n",
              "39      Sergei Rachmaninoff, James Levine, Berliner Ph...      0.282389   \n",
              "109097  Sergei Rachmaninoff, Vladimir Horowitz, New Yo...      0.381579   \n",
              "39041   Sergei Rachmaninoff, Vladimir Horowitz, New Yo...      0.381579   \n",
              "92624                  Frédéric Chopin, Vladimir Horowitz      0.386640   \n",
              "20423                  Frédéric Chopin, Vladimir Horowitz      0.247976   \n",
              "1633                       Franz Liszt, Vladimir Horowitz      0.298583   \n",
              "1677                       Franz Liszt, Vladimir Horowitz      0.291498   \n",
              "1665                       Franz Liszt, Vladimir Horowitz      0.383603   \n",
              "75462                  Frédéric Chopin, Vladimir Horowitz      0.302632   \n",
              "40265   Ludwig van Beethoven, Karl Böhm, Staatskapelle...      0.155870   \n",
              "39080                  Frédéric Chopin, Vladimir Horowitz      0.304656   \n",
              "41485                    Richard Wagner, Arturo Toscanini      0.283401   \n",
              "109035                      Frédéric Chopin, Dinu Lipatti      0.296559   \n",
              "125001                     Frédéric Chopin, Alfred Cortot      0.349190   \n",
              "38905   Ludwig van Beethoven, Berliner Philharmoniker,...      0.196356   \n",
              "75528   Hector Berlioz, Staatskapelle Berlin, Erich Kl...      0.198381   \n",
              "156064                 Domenico Scarlatti, William Kapell      0.371457   \n",
              "126084                   Giuseppe Verdi, Arturo Toscanini      0.294534   \n",
              "108990                      Frédéric Chopin, Simon Barere      0.393725   \n",
              "\n",
              "        duration_ms  energy  explicit                      id  \\\n",
              "0          0.153112  0.2110       0.0  4BJqT0PrAfrxzMOxytFOIz   \n",
              "39         0.153112  0.2110       0.0  1SCWBjhk5WmXPxhDduD3HM   \n",
              "109097     0.164172  0.2100       0.0  7mqytyJkLxRlywbwSHFvic   \n",
              "39041      0.164172  0.2100       0.0  2SPOwMPEXB4Jm1MKzDH8Wc   \n",
              "92624      0.084514  0.2050       0.0  6JFq3aShxlO5CyF2FrYXCr   \n",
              "20423      0.043672  0.1030       0.0  0zzGHfLjR6rcQhF0Oo1k8i   \n",
              "1633       0.145744  0.0713       0.0  34y6Gie19NTeapGMoqCHhl   \n",
              "1677       0.113100  0.1450       0.0  7paJusVgjTQGvFZpTDHYBW   \n",
              "1665       0.081691  0.0877       0.0  3UaOfi16cKYbWt4EcHQJJr   \n",
              "75462      0.052736  0.0441       0.0  4gCfUCZsjnLU6q4RAAu3Oy   \n",
              "40265      0.183077  0.0770       0.0  1YnmAenKanDp1Cg9lARum7   \n",
              "39080      0.146792  0.1370       0.0  2gxdizo1tudU7R72Wpd2pe   \n",
              "41485      0.059899  0.2600       0.0  3Rj9JIF1uZcA62qfE0H4nT   \n",
              "109035     0.045408  0.1730       0.0  3XI9mqeqWB4rE2z85LKCyj   \n",
              "125001     0.044885  0.0805       0.0  7xixaoI0LigjwEEnDrhmem   \n",
              "38905      0.123002  0.0715       0.0  7cXjrcVIhug5vZxQ9IAhG8   \n",
              "75528      0.103648  0.3060       0.0  5EL5HNWfmGeLz1lBX5XAbG   \n",
              "156064     0.035657  0.1540       0.0  5iEJj8EZ8umonhQ2oiSpfV   \n",
              "126084     0.039056  0.1330       0.0  6duvZn7zdB8w8pfVYUzxaH   \n",
              "108990     0.040202  0.2390       0.0  1r2ty18wnRzAMyliXlripV   \n",
              "\n",
              "        instrumentalness       key  liveness  loudness  mode  \\\n",
              "0                  0.878  0.909091     0.665  0.624916   1.0   \n",
              "39                 0.878  0.909091     0.665  0.624916   1.0   \n",
              "109097             0.921  0.909091     0.689  0.639903   1.0   \n",
              "39041              0.921  0.909091     0.689  0.639903   1.0   \n",
              "92624              0.907  1.000000     0.696  0.672853   1.0   \n",
              "20423              0.921  1.000000     0.672  0.645478   1.0   \n",
              "1633               0.891  1.000000     0.699  0.616256   1.0   \n",
              "1677               0.760  1.000000     0.717  0.635643   1.0   \n",
              "1665               0.868  0.818182     0.702  0.555759   1.0   \n",
              "75462              0.893  1.000000     0.670  0.550967   1.0   \n",
              "40265              0.908  0.909091     0.564  0.576306   1.0   \n",
              "39080              0.857  1.000000     0.877  0.602318   1.0   \n",
              "41485              0.909  0.909091     0.704  0.685585   1.0   \n",
              "109035             0.921  0.727273     0.647  0.627641   1.0   \n",
              "125001             0.892  0.818182     0.534  0.631243   1.0   \n",
              "38905              0.785  0.727273     0.820  0.579641   1.0   \n",
              "75528              0.844  0.727273     0.432  0.701543   1.0   \n",
              "156064             0.892  1.000000     0.722  0.561256   1.0   \n",
              "126084             0.813  1.000000     0.596  0.695372   1.0   \n",
              "108990             0.896  0.727273     0.650  0.679023   1.0   \n",
              "\n",
              "                                                     name  popularity  \\\n",
              "0       Piano Concerto No. 3 in D Minor, Op. 30: III. ...        0.04   \n",
              "39      Piano Concerto No. 3 in D Minor, Op. 30: III. ...        0.01   \n",
              "109097  Piano Concerto No. 3 in D Minor, Op. 30: III. ...        0.00   \n",
              "39041   Piano Concerto No. 3 in D Minor, Op. 30: III. ...        0.00   \n",
              "92624                    Scherzo No. 1 in B Minor, Op. 20        0.00   \n",
              "20423                  Nocturne in E Minor, Op. 72, No. 1        0.02   \n",
              "1633    Années de pèlerinage, Première année (Suisse),...        0.14   \n",
              "1677    Sonata for Piano in B Minor, S. 178: III. Alle...        0.09   \n",
              "1665    Soirées de Vienne, S. 427 No. 6: Allegro con s...        0.10   \n",
              "75462                                             Andante        0.00   \n",
              "40265   Beethoven: Symphony No. 9 in D Minor, Op. 125 ...        0.00   \n",
              "39080         Polonaise-Fantaisie in A-Flat Major, Op. 61        0.00   \n",
              "41485   Götterdämmerung, WWV 86D: Siegfried's Rhine Jo...        0.00   \n",
              "109035                      Valse in E-Flat Major, Op. 18        0.00   \n",
              "125001                   Prélude in C-Sharp Minor, Op. 45        0.00   \n",
              "38905   Symphony No. 5 in C Minor, Op. 67: 2. Andante ...        0.00   \n",
              "75528                     Le carnaval romain, Op. 9, H 95        0.00   \n",
              "156064                            Sonata in E, K.380/L.23        0.00   \n",
              "126084                        La Traviata: Act I, Prelude        0.01   \n",
              "108990                      Valse in A-Flat Major, Op. 42        0.00   \n",
              "\n",
              "       release_date  speechiness     tempo  \n",
              "0              1921     0.037732  0.332450  \n",
              "39             1921     0.037732  0.332450  \n",
              "109097         1928     0.037732  0.395225  \n",
              "39041          1928     0.037732  0.395225  \n",
              "92624          1928     0.041959  0.434411  \n",
              "20423          1928     0.032887  0.363542  \n",
              "1633           1930     0.048660  0.309244  \n",
              "1677           1930     0.037010  0.435721  \n",
              "1665           1930     0.047216  0.366322  \n",
              "75462          1928     0.038660  0.373706  \n",
              "40265          1935     0.042268  0.421869  \n",
              "39080          1928     0.036289  0.547356  \n",
              "41485          1941     0.052062  0.516293  \n",
              "109035         1926     0.048557  0.327325  \n",
              "125001         1926     0.036186  0.532317  \n",
              "38905    1927-01-02     0.061546  0.312283  \n",
              "75528    1928-01-01     0.064639  0.312878  \n",
              "156064         1945     0.045773  0.386818  \n",
              "126084         1946     0.037732  0.252375  \n",
              "108990         1926     0.044948  0.288998  "
            ],
            "text/html": "<div>\n<style scoped>\n    .dataframe tbody tr th:only-of-type {\n        vertical-align: middle;\n    }\n\n    .dataframe tbody tr th {\n        vertical-align: top;\n    }\n\n    .dataframe thead th {\n        text-align: right;\n    }\n</style>\n<table border=\"1\" class=\"dataframe\">\n  <thead>\n    <tr style=\"text-align: right;\">\n      <th></th>\n      <th>valence</th>\n      <th>year</th>\n      <th>acousticness</th>\n      <th>artists</th>\n      <th>danceability</th>\n      <th>duration_ms</th>\n      <th>energy</th>\n      <th>explicit</th>\n      <th>id</th>\n      <th>instrumentalness</th>\n      <th>key</th>\n      <th>liveness</th>\n      <th>loudness</th>\n      <th>mode</th>\n      <th>name</th>\n      <th>popularity</th>\n      <th>release_date</th>\n      <th>speechiness</th>\n      <th>tempo</th>\n    </tr>\n  </thead>\n  <tbody>\n    <tr>\n      <th>0</th>\n      <td>0.0594</td>\n      <td>0.000000</td>\n      <td>0.985944</td>\n      <td>Sergei Rachmaninoff, James Levine, Berliner Ph...</td>\n      <td>0.282389</td>\n      <td>0.153112</td>\n      <td>0.2110</td>\n      <td>0.0</td>\n      <td>4BJqT0PrAfrxzMOxytFOIz</td>\n      <td>0.878</td>\n      <td>0.909091</td>\n      <td>0.665</td>\n      <td>0.624916</td>\n      <td>1.0</td>\n      <td>Piano Concerto No. 3 in D Minor, Op. 30: III. ...</td>\n      <td>0.04</td>\n      <td>1921</td>\n      <td>0.037732</td>\n      <td>0.332450</td>\n    </tr>\n    <tr>\n      <th>39</th>\n      <td>0.0594</td>\n      <td>0.000000</td>\n      <td>0.985944</td>\n      <td>Sergei Rachmaninoff, James Levine, Berliner Ph...</td>\n      <td>0.282389</td>\n      <td>0.153112</td>\n      <td>0.2110</td>\n      <td>0.0</td>\n      <td>1SCWBjhk5WmXPxhDduD3HM</td>\n      <td>0.878</td>\n      <td>0.909091</td>\n      <td>0.665</td>\n      <td>0.624916</td>\n      <td>1.0</td>\n      <td>Piano Concerto No. 3 in D Minor, Op. 30: III. ...</td>\n      <td>0.01</td>\n      <td>1921</td>\n      <td>0.037732</td>\n      <td>0.332450</td>\n    </tr>\n    <tr>\n      <th>109097</th>\n      <td>0.1020</td>\n      <td>0.070707</td>\n      <td>0.971888</td>\n      <td>Sergei Rachmaninoff, Vladimir Horowitz, New Yo...</td>\n      <td>0.381579</td>\n      <td>0.164172</td>\n      <td>0.2100</td>\n      <td>0.0</td>\n      <td>7mqytyJkLxRlywbwSHFvic</td>\n      <td>0.921</td>\n      <td>0.909091</td>\n      <td>0.689</td>\n      <td>0.639903</td>\n      <td>1.0</td>\n      <td>Piano Concerto No. 3 in D Minor, Op. 30: III. ...</td>\n      <td>0.00</td>\n      <td>1928</td>\n      <td>0.037732</td>\n      <td>0.395225</td>\n    </tr>\n    <tr>\n      <th>39041</th>\n      <td>0.1020</td>\n      <td>0.070707</td>\n      <td>0.971888</td>\n      <td>Sergei Rachmaninoff, Vladimir Horowitz, New Yo...</td>\n      <td>0.381579</td>\n      <td>0.164172</td>\n      <td>0.2100</td>\n      <td>0.0</td>\n      <td>2SPOwMPEXB4Jm1MKzDH8Wc</td>\n      <td>0.921</td>\n      <td>0.909091</td>\n      <td>0.689</td>\n      <td>0.639903</td>\n      <td>1.0</td>\n      <td>Piano Concerto No. 3 in D Minor, Op. 30: III. ...</td>\n      <td>0.00</td>\n      <td>1928</td>\n      <td>0.037732</td>\n      <td>0.395225</td>\n    </tr>\n    <tr>\n      <th>92624</th>\n      <td>0.1180</td>\n      <td>0.070707</td>\n      <td>0.997992</td>\n      <td>Frédéric Chopin, Vladimir Horowitz</td>\n      <td>0.386640</td>\n      <td>0.084514</td>\n      <td>0.2050</td>\n      <td>0.0</td>\n      <td>6JFq3aShxlO5CyF2FrYXCr</td>\n      <td>0.907</td>\n      <td>1.000000</td>\n      <td>0.696</td>\n      <td>0.672853</td>\n      <td>1.0</td>\n      <td>Scherzo No. 1 in B Minor, Op. 20</td>\n      <td>0.00</td>\n      <td>1928</td>\n      <td>0.041959</td>\n      <td>0.434411</td>\n    </tr>\n    <tr>\n      <th>20423</th>\n      <td>0.0859</td>\n      <td>0.070707</td>\n      <td>0.997992</td>\n      <td>Frédéric Chopin, Vladimir Horowitz</td>\n      <td>0.247976</td>\n      <td>0.043672</td>\n      <td>0.1030</td>\n      <td>0.0</td>\n      <td>0zzGHfLjR6rcQhF0Oo1k8i</td>\n      <td>0.921</td>\n      <td>1.000000</td>\n      <td>0.672</td>\n      <td>0.645478</td>\n      <td>1.0</td>\n      <td>Nocturne in E Minor, Op. 72, No. 1</td>\n      <td>0.02</td>\n      <td>1928</td>\n      <td>0.032887</td>\n      <td>0.363542</td>\n    </tr>\n    <tr>\n      <th>1633</th>\n      <td>0.0379</td>\n      <td>0.090909</td>\n      <td>0.985944</td>\n      <td>Franz Liszt, Vladimir Horowitz</td>\n      <td>0.298583</td>\n      <td>0.145744</td>\n      <td>0.0713</td>\n      <td>0.0</td>\n      <td>34y6Gie19NTeapGMoqCHhl</td>\n      <td>0.891</td>\n      <td>1.000000</td>\n      <td>0.699</td>\n      <td>0.616256</td>\n      <td>1.0</td>\n      <td>Années de pèlerinage, Première année (Suisse),...</td>\n      <td>0.14</td>\n      <td>1930</td>\n      <td>0.048660</td>\n      <td>0.309244</td>\n    </tr>\n    <tr>\n      <th>1677</th>\n      <td>0.0798</td>\n      <td>0.090909</td>\n      <td>0.936747</td>\n      <td>Franz Liszt, Vladimir Horowitz</td>\n      <td>0.291498</td>\n      <td>0.113100</td>\n      <td>0.1450</td>\n      <td>0.0</td>\n      <td>7paJusVgjTQGvFZpTDHYBW</td>\n      <td>0.760</td>\n      <td>1.000000</td>\n      <td>0.717</td>\n      <td>0.635643</td>\n      <td>1.0</td>\n      <td>Sonata for Piano in B Minor, S. 178: III. Alle...</td>\n      <td>0.09</td>\n      <td>1930</td>\n      <td>0.037010</td>\n      <td>0.435721</td>\n    </tr>\n    <tr>\n      <th>1665</th>\n      <td>0.0959</td>\n      <td>0.090909</td>\n      <td>0.992972</td>\n      <td>Franz Liszt, Vladimir Horowitz</td>\n      <td>0.383603</td>\n      <td>0.081691</td>\n      <td>0.0877</td>\n      <td>0.0</td>\n      <td>3UaOfi16cKYbWt4EcHQJJr</td>\n      <td>0.868</td>\n      <td>0.818182</td>\n      <td>0.702</td>\n      <td>0.555759</td>\n      <td>1.0</td>\n      <td>Soirées de Vienne, S. 427 No. 6: Allegro con s...</td>\n      <td>0.10</td>\n      <td>1930</td>\n      <td>0.047216</td>\n      <td>0.366322</td>\n    </tr>\n    <tr>\n      <th>75462</th>\n      <td>0.1280</td>\n      <td>0.070707</td>\n      <td>0.996988</td>\n      <td>Frédéric Chopin, Vladimir Horowitz</td>\n      <td>0.302632</td>\n      <td>0.052736</td>\n      <td>0.0441</td>\n      <td>0.0</td>\n      <td>4gCfUCZsjnLU6q4RAAu3Oy</td>\n      <td>0.893</td>\n      <td>1.000000</td>\n      <td>0.670</td>\n      <td>0.550967</td>\n      <td>1.0</td>\n      <td>Andante</td>\n      <td>0.00</td>\n      <td>1928</td>\n      <td>0.038660</td>\n      <td>0.373706</td>\n    </tr>\n    <tr>\n      <th>40265</th>\n      <td>0.0973</td>\n      <td>0.141414</td>\n      <td>0.930723</td>\n      <td>Ludwig van Beethoven, Karl Böhm, Staatskapelle...</td>\n      <td>0.155870</td>\n      <td>0.183077</td>\n      <td>0.0770</td>\n      <td>0.0</td>\n      <td>1YnmAenKanDp1Cg9lARum7</td>\n      <td>0.908</td>\n      <td>0.909091</td>\n      <td>0.564</td>\n      <td>0.576306</td>\n      <td>1.0</td>\n      <td>Beethoven: Symphony No. 9 in D Minor, Op. 125 ...</td>\n      <td>0.00</td>\n      <td>1935</td>\n      <td>0.042268</td>\n      <td>0.421869</td>\n    </tr>\n    <tr>\n      <th>39080</th>\n      <td>0.0561</td>\n      <td>0.070707</td>\n      <td>0.993976</td>\n      <td>Frédéric Chopin, Vladimir Horowitz</td>\n      <td>0.304656</td>\n      <td>0.146792</td>\n      <td>0.1370</td>\n      <td>0.0</td>\n      <td>2gxdizo1tudU7R72Wpd2pe</td>\n      <td>0.857</td>\n      <td>1.000000</td>\n      <td>0.877</td>\n      <td>0.602318</td>\n      <td>1.0</td>\n      <td>Polonaise-Fantaisie in A-Flat Major, Op. 61</td>\n      <td>0.00</td>\n      <td>1928</td>\n      <td>0.036289</td>\n      <td>0.547356</td>\n    </tr>\n    <tr>\n      <th>41485</th>\n      <td>0.1480</td>\n      <td>0.202020</td>\n      <td>0.918675</td>\n      <td>Richard Wagner, Arturo Toscanini</td>\n      <td>0.283401</td>\n      <td>0.059899</td>\n      <td>0.2600</td>\n      <td>0.0</td>\n      <td>3Rj9JIF1uZcA62qfE0H4nT</td>\n      <td>0.909</td>\n      <td>0.909091</td>\n      <td>0.704</td>\n      <td>0.685585</td>\n      <td>1.0</td>\n      <td>Götterdämmerung, WWV 86D: Siegfried's Rhine Jo...</td>\n      <td>0.00</td>\n      <td>1941</td>\n      <td>0.052062</td>\n      <td>0.516293</td>\n    </tr>\n    <tr>\n      <th>109035</th>\n      <td>0.2860</td>\n      <td>0.050505</td>\n      <td>0.996988</td>\n      <td>Frédéric Chopin, Dinu Lipatti</td>\n      <td>0.296559</td>\n      <td>0.045408</td>\n      <td>0.1730</td>\n      <td>0.0</td>\n      <td>3XI9mqeqWB4rE2z85LKCyj</td>\n      <td>0.921</td>\n      <td>0.727273</td>\n      <td>0.647</td>\n      <td>0.627641</td>\n      <td>1.0</td>\n      <td>Valse in E-Flat Major, Op. 18</td>\n      <td>0.00</td>\n      <td>1926</td>\n      <td>0.048557</td>\n      <td>0.327325</td>\n    </tr>\n    <tr>\n      <th>125001</th>\n      <td>0.0987</td>\n      <td>0.050505</td>\n      <td>0.997992</td>\n      <td>Frédéric Chopin, Alfred Cortot</td>\n      <td>0.349190</td>\n      <td>0.044885</td>\n      <td>0.0805</td>\n      <td>0.0</td>\n      <td>7xixaoI0LigjwEEnDrhmem</td>\n      <td>0.892</td>\n      <td>0.818182</td>\n      <td>0.534</td>\n      <td>0.631243</td>\n      <td>1.0</td>\n      <td>Prélude in C-Sharp Minor, Op. 45</td>\n      <td>0.00</td>\n      <td>1926</td>\n      <td>0.036186</td>\n      <td>0.532317</td>\n    </tr>\n    <tr>\n      <th>38905</th>\n      <td>0.1430</td>\n      <td>0.060606</td>\n      <td>0.993976</td>\n      <td>Ludwig van Beethoven, Berliner Philharmoniker,...</td>\n      <td>0.196356</td>\n      <td>0.123002</td>\n      <td>0.0715</td>\n      <td>0.0</td>\n      <td>7cXjrcVIhug5vZxQ9IAhG8</td>\n      <td>0.785</td>\n      <td>0.727273</td>\n      <td>0.820</td>\n      <td>0.579641</td>\n      <td>1.0</td>\n      <td>Symphony No. 5 in C Minor, Op. 67: 2. Andante ...</td>\n      <td>0.00</td>\n      <td>1927-01-02</td>\n      <td>0.061546</td>\n      <td>0.312283</td>\n    </tr>\n    <tr>\n      <th>75528</th>\n      <td>0.1150</td>\n      <td>0.070707</td>\n      <td>0.921687</td>\n      <td>Hector Berlioz, Staatskapelle Berlin, Erich Kl...</td>\n      <td>0.198381</td>\n      <td>0.103648</td>\n      <td>0.3060</td>\n      <td>0.0</td>\n      <td>5EL5HNWfmGeLz1lBX5XAbG</td>\n      <td>0.844</td>\n      <td>0.727273</td>\n      <td>0.432</td>\n      <td>0.701543</td>\n      <td>1.0</td>\n      <td>Le carnaval romain, Op. 9, H 95</td>\n      <td>0.00</td>\n      <td>1928-01-01</td>\n      <td>0.064639</td>\n      <td>0.312878</td>\n    </tr>\n    <tr>\n      <th>156064</th>\n      <td>0.2150</td>\n      <td>0.242424</td>\n      <td>0.991968</td>\n      <td>Domenico Scarlatti, William Kapell</td>\n      <td>0.371457</td>\n      <td>0.035657</td>\n      <td>0.1540</td>\n      <td>0.0</td>\n      <td>5iEJj8EZ8umonhQ2oiSpfV</td>\n      <td>0.892</td>\n      <td>1.000000</td>\n      <td>0.722</td>\n      <td>0.561256</td>\n      <td>1.0</td>\n      <td>Sonata in E, K.380/L.23</td>\n      <td>0.00</td>\n      <td>1945</td>\n      <td>0.045773</td>\n      <td>0.386818</td>\n    </tr>\n    <tr>\n      <th>126084</th>\n      <td>0.0827</td>\n      <td>0.252525</td>\n      <td>0.893574</td>\n      <td>Giuseppe Verdi, Arturo Toscanini</td>\n      <td>0.294534</td>\n      <td>0.039056</td>\n      <td>0.1330</td>\n      <td>0.0</td>\n      <td>6duvZn7zdB8w8pfVYUzxaH</td>\n      <td>0.813</td>\n      <td>1.000000</td>\n      <td>0.596</td>\n      <td>0.695372</td>\n      <td>1.0</td>\n      <td>La Traviata: Act I, Prelude</td>\n      <td>0.01</td>\n      <td>1946</td>\n      <td>0.037732</td>\n      <td>0.252375</td>\n    </tr>\n    <tr>\n      <th>108990</th>\n      <td>0.3140</td>\n      <td>0.050505</td>\n      <td>0.998996</td>\n      <td>Frédéric Chopin, Simon Barere</td>\n      <td>0.393725</td>\n      <td>0.040202</td>\n      <td>0.2390</td>\n      <td>0.0</td>\n      <td>1r2ty18wnRzAMyliXlripV</td>\n      <td>0.896</td>\n      <td>0.727273</td>\n      <td>0.650</td>\n      <td>0.679023</td>\n      <td>1.0</td>\n      <td>Valse in A-Flat Major, Op. 42</td>\n      <td>0.00</td>\n      <td>1926</td>\n      <td>0.044948</td>\n      <td>0.288998</td>\n    </tr>\n  </tbody>\n</table>\n</div>"
          },
          "metadata": {},
          "execution_count": 31
        }
      ]
    },
    {
      "cell_type": "markdown",
      "metadata": {
        "id": "NZLc5LmjClgU"
      },
      "source": [
        "##Save and pickle"
      ]
    },
    {
      "cell_type": "code",
      "metadata": {
        "id": "2FVj6tcAhBOx"
      },
      "source": [
        "\n",
        "if 'google.colab' in str(get_ipython()):\n",
        "    print('Running on CoLab')\n",
        "    from google.colab import files\n",
        "else:\n",
        "  print(\"No running in colab\")\n"
      ],
      "execution_count": 34,
      "outputs": [
        {
          "output_type": "stream",
          "name": "stdout",
          "text": [
            "No running in colab\n"
          ]
        }
      ]
    },
    {
      "cell_type": "code",
      "metadata": {
        "id": "Wf_6tH8I8NmI"
      },
      "source": [
        "filename = './csv/spotify_track_neighbors.urenaj'\n",
        "pickle.dump(model_knn, open(filename, 'wb'))\n",
        "#pickle sklearn model"
      ],
      "execution_count": 43,
      "outputs": []
    },
    {
      "cell_type": "code",
      "metadata": {
        "id": "T9rV7Czo90tM"
      },
      "source": [
        "#How to un-pickle \r\n",
        "# knn_2nd = pickle.load(open(filename, 'rb'))\r\n",
        "# distances, x_ids = knn_2nd.kneighbors(spotify_matrix[[0]],3,return_distance=True)"
      ],
      "execution_count": null,
      "outputs": []
    },
    {
      "cell_type": "code",
      "metadata": {
        "id": "DK1IwhfyCsr0"
      },
      "source": [
        "X = spotify_matrix\n",
        "np.savetxt(\"./csv/spotify_matrix.csv\", X, delimiter=\",\")\n",
        "#how to save or pickle np.array"
      ],
      "execution_count": 40,
      "outputs": []
    },
    {
      "cell_type": "code",
      "metadata": {
        "id": "umYSrvs-GTAQ"
      },
      "source": [
        "#load np.array \r\n",
        "# np.loadtxt(\"spotify_matrix.csv\",delimiter=\",\")"
      ],
      "execution_count": null,
      "outputs": []
    },
    {
      "cell_type": "code",
      "metadata": {
        "id": "dN-rWeNydc5I"
      },
      "source": [
        "spotify.to_csv('./csv/spotify_tracks.csv',index=False)"
      ],
      "execution_count": 42,
      "outputs": []
    },
    {
      "cell_type": "code",
      "execution_count": null,
      "metadata": {},
      "outputs": [],
      "source": []
    }
  ]
}